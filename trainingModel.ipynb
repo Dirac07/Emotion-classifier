{
  "nbformat": 4,
  "nbformat_minor": 0,
  "metadata": {
    "colab": {
      "name": "trainingModel.ipynb",
      "provenance": [],
      "collapsed_sections": []
    },
    "kernelspec": {
      "name": "python3",
      "display_name": "Python 3"
    },
    "language_info": {
      "name": "python"
    }
  },
  "cells": [
    {
      "cell_type": "markdown",
      "source": [
        "##Importación de las librerías"
      ],
      "metadata": {
        "id": "fTJzS17XkSa7"
      }
    },
    {
      "cell_type": "markdown",
      "source": [
        "En primer lugar, importamos todas las librerías que utilizaremos, en especial las necesarias para la creación de la CNN, que se construirá con la librería Keras de Tensorflow"
      ],
      "metadata": {
        "id": "m6hU0Cc7kXXy"
      }
    },
    {
      "cell_type": "code",
      "source": [
        "import numpy as np \n",
        "import sklearn\n",
        "import pandas as pd \n",
        "import tensorflow as tf\n",
        "from tensorflow import keras\n",
        "import matplotlib.pyplot as plt\n",
        "import seaborn as sns\n",
        "from sklearn.model_selection import train_test_split\n",
        "from keras.layers import Conv2D, MaxPool2D, AveragePooling2D, Input, BatchNormalization, MaxPooling2D, Activation, Flatten, Dense, Dropout\n",
        "from keras.models import Sequential\n",
        "from keras.utils import np_utils\n",
        "from sklearn.metrics import classification_report\n",
        "from imblearn.over_sampling import RandomOverSampler\n",
        "from keras.preprocessing import image\n",
        "import scipy\n",
        "import os\n",
        "from tqdm import tqdm\n",
        "import cv2"
      ],
      "metadata": {
        "id": "WdUsPLnsNy75"
      },
      "execution_count": null,
      "outputs": []
    },
    {
      "cell_type": "markdown",
      "source": [
        "## Procesamiento de los datos"
      ],
      "metadata": {
        "id": "3G-KRMoXkmpy"
      }
    },
    {
      "cell_type": "markdown",
      "source": [
        "Procedemos a leer los datos y crear nuestro target y predictores"
      ],
      "metadata": {
        "id": "SJ2BeBnrkqYd"
      }
    },
    {
      "cell_type": "code",
      "source": [
        "data = pd.read_csv('drive/MyDrive/Proyecto4_CienciaDatos/fer2013.csv')"
      ],
      "metadata": {
        "id": "X2CqdLgCN0qX"
      },
      "execution_count": null,
      "outputs": []
    },
    {
      "cell_type": "code",
      "source": [
        "x_data = data['pixels']\n",
        "y_data = data['emotion']"
      ],
      "metadata": {
        "id": "ZqA9EjlIN998"
      },
      "execution_count": null,
      "outputs": []
    },
    {
      "cell_type": "markdown",
      "source": [
        "Y visualizamos la distribución de las clases. En específico, tenemos 7 emociones, cada una representada por un número\n",
        " \n",
        "\n",
        "*   Anger: **0**\n",
        "*   Disgust: **1**\n",
        "*   Fear: **2**\n",
        "*   Happy: **3**\n",
        "*   Sad: **4**\n",
        "*   Surprise: **5**\n",
        "*   Neutral: **6**"
      ],
      "metadata": {
        "id": "lKPQNzK0kwDC"
      }
    },
    {
      "cell_type": "code",
      "source": [
        "sns.set_theme(style=\"darkgrid\")\n",
        "ax = sns.countplot(x=\"emotion\", data=data)\n",
        "plt.savefig('/content/drive/MyDrive/Proyecto4_CienciaDatos/images/hist1.png', dpi=200)"
      ],
      "metadata": {
        "colab": {
          "base_uri": "https://localhost:8080/",
          "height": 285
        },
        "id": "Uyqiec5COA8C",
        "outputId": "89a3e655-12cd-46f8-faf8-aa496347e100"
      },
      "execution_count": null,
      "outputs": [
        {
          "output_type": "display_data",
          "data": {
            "text/plain": [
              "<Figure size 432x288 with 1 Axes>"
            ],
            "image/png": "[encoded data removed]"
          },
          "metadata": {}
        }
      ]
    },
    {
      "cell_type": "markdown",
      "source": [
        "Por medio ahora del método RandomOverSampler, se generarán elementos en las clases con pocos datos para tenerlas niveladas"
      ],
      "metadata": {
        "id": "6YXf7rNpmQsc"
      }
    },
    {
      "cell_type": "code",
      "source": [
        "oversampler = RandomOverSampler(sampling_strategy='auto')\n",
        "\n",
        "x_data, y_data = oversampler.fit_resample(x_data.values.reshape(-1,1), y_data)\n",
        "print(x_data.shape,\" \",y_data.shape)"
      ],
      "metadata": {
        "colab": {
          "base_uri": "https://localhost:8080/"
        },
        "id": "Bz1591v2OCGk",
        "outputId": "36afb073-bc51-48eb-898c-ab911d261dd7"
      },
      "execution_count": null,
      "outputs": [
        {
          "output_type": "stream",
          "name": "stdout",
          "text": [
            "(62923, 1)   (62923,)\n"
          ]
        }
      ]
    },
    {
      "cell_type": "markdown",
      "source": [
        "Y graficamos nuevamente las clases para verificar que se encuentren balanceadas"
      ],
      "metadata": {
        "id": "HF9bncyimerD"
      }
    },
    {
      "cell_type": "code",
      "source": [
        "sns.set_theme(style=\"darkgrid\")\n",
        "ax = sns.countplot(y_data)\n",
        "plt.savefig('/content/drive/MyDrive/Proyecto4_CienciaDatos/images/hist2.png', dpi=200)"
      ],
      "metadata": {
        "colab": {
          "base_uri": "https://localhost:8080/",
          "height": 340
        },
        "id": "QTDu6U-cODjp",
        "outputId": "6a45ee93-0f66-4622-d23d-8101bc91cb34"
      },
      "execution_count": null,
      "outputs": [
        {
          "output_type": "stream",
          "name": "stderr",
          "text": [
            "/usr/local/lib/python3.7/dist-packages/seaborn/_decorators.py:43: FutureWarning: Pass the following variable as a keyword arg: x. From version 0.12, the only valid positional argument will be `data`, and passing other arguments without an explicit keyword will result in an error or misinterpretation.\n",
            "  FutureWarning\n"
          ]
        },
        {
          "output_type": "display_data",
          "data": {
            "text/plain": [
              "<Figure size 432x288 with 1 Axes>"
            ],
            "image/png": "[encoded data removed]"
          },
          "metadata": {}
        }
      ]
    },
    {
      "cell_type": "markdown",
      "source": [
        "Procesamos ahora los datos de las píxeles de las imágenes para convertirlos en matrices de numpy y poder trabajar con ellos"
      ],
      "metadata": {
        "id": "K-ejV0BZmrX2"
      }
    },
    {
      "cell_type": "code",
      "source": [
        "x_data = pd.Series(x_data.flatten())"
      ],
      "metadata": {
        "id": "zqNI7ocwOEzi"
      },
      "execution_count": null,
      "outputs": []
    },
    {
      "cell_type": "code",
      "source": [
        "X = []\n",
        "for i in tqdm(range(len(x_data))):\n",
        "  X.append(np.array(x_data.iloc[i].split(), dtype=float).reshape(48,48)/255)"
      ],
      "metadata": {
        "colab": {
          "base_uri": "https://localhost:8080/"
        },
        "id": "gYJA5AKgOzrL",
        "outputId": "ab4d7d8a-3c7c-4d5a-aebf-56c7b99cfdff"
      },
      "execution_count": null,
      "outputs": [
        {
          "output_type": "stream",
          "name": "stderr",
          "text": [
            "100%|██████████| 62923/62923 [00:25<00:00, 2498.96it/s]\n"
          ]
        }
      ]
    },
    {
      "cell_type": "code",
      "source": [
        "x_data = np.array(X)"
      ],
      "metadata": {
        "id": "M8Nh7KlfQmRE"
      },
      "execution_count": null,
      "outputs": []
    },
    {
      "cell_type": "markdown",
      "source": [
        "Y finalmente, ajustamos las dimensiones de nuestros datasets"
      ],
      "metadata": {
        "id": "vcI8ryyinAmu"
      }
    },
    {
      "cell_type": "code",
      "source": [
        "x_data = x_data.reshape(-1, 48, 48, 1)\n",
        "x_data.shape"
      ],
      "metadata": {
        "colab": {
          "base_uri": "https://localhost:8080/"
        },
        "id": "OVIdJThIOIfl",
        "outputId": "28dbc3ac-89e5-431f-a56e-e80d3d9903f9"
      },
      "execution_count": null,
      "outputs": [
        {
          "output_type": "execute_result",
          "data": {
            "text/plain": [
              "(62923, 48, 48, 1)"
            ]
          },
          "metadata": {},
          "execution_count": 13
        }
      ]
    },
    {
      "cell_type": "code",
      "source": [
        "y_data = np.array(y_data)\n",
        "y_data = y_data.reshape(y_data.shape[0], 1)\n",
        "y_data.shape"
      ],
      "metadata": {
        "colab": {
          "base_uri": "https://localhost:8080/"
        },
        "id": "vU0BJDkNOKJ9",
        "outputId": "1d3eb56a-0723-43b3-f7e5-0bfe521afa22"
      },
      "execution_count": null,
      "outputs": [
        {
          "output_type": "execute_result",
          "data": {
            "text/plain": [
              "(62923, 1)"
            ]
          },
          "metadata": {},
          "execution_count": 14
        }
      ]
    },
    {
      "cell_type": "markdown",
      "source": [
        "##Arquitectura del modelo"
      ],
      "metadata": {
        "id": "WC-5li0UnN8F"
      }
    },
    {
      "cell_type": "markdown",
      "source": [
        "Por medio del método train_test_split, escogemos aleatoriamente un 10% de nuestros datos para que sean de testeo"
      ],
      "metadata": {
        "id": "Gm2Kv_z8nFmz"
      }
    },
    {
      "cell_type": "code",
      "source": [
        "x_train, x_test, y_train, y_test = train_test_split(x_data, y_data, test_size = 0.1, random_state = 45)"
      ],
      "metadata": {
        "id": "rfSzlPPYOLyl"
      },
      "execution_count": null,
      "outputs": []
    },
    {
      "cell_type": "markdown",
      "source": [
        "Y definimos nuestra CNN de 20 capas, donde priman las capas Conv2D, y las de MaxPooling2D"
      ],
      "metadata": {
        "id": "nd8IgCxxnTdY"
      }
    },
    {
      "cell_type": "code",
      "source": [
        "model = Sequential([\n",
        "    Input((48, 48, 1)),\n",
        "    Conv2D(32, kernel_size=(3,3), strides=(1,1), padding='valid'),\n",
        "    BatchNormalization(axis=3),\n",
        "    Activation('relu'),\n",
        "    Conv2D(64, (3,3), strides=(1,1), padding = 'same'),\n",
        "    BatchNormalization(axis=3),\n",
        "    Activation('relu'),\n",
        "    MaxPooling2D((2,2)),\n",
        "    Conv2D(64, (3,3), strides=(1,1), padding = 'valid'),\n",
        "    BatchNormalization(axis=3),\n",
        "    Activation('relu'),\n",
        "    Conv2D(128, (3,3), strides=(1,1), padding = 'same'),\n",
        "    BatchNormalization(axis=3),\n",
        "    Activation('relu'),\n",
        "    MaxPooling2D((2,2)),\n",
        "    Conv2D(128, (3,3), strides=(1,1), padding = 'valid'),\n",
        "    BatchNormalization(axis=3),\n",
        "    Activation('relu'),\n",
        "    MaxPooling2D((2,2)),\n",
        "    Flatten(),\n",
        "    Dense(200, activation='relu'),\n",
        "    Dropout(0.6),\n",
        "    Dense(7, activation = 'softmax')\n",
        "])\n",
        "model.summary()"
      ],
      "metadata": {
        "id": "1ZWvcItsONo5"
      },
      "execution_count": null,
      "outputs": []
    },
    {
      "cell_type": "markdown",
      "source": [
        "Visualizamos nuestro modelo en una gráfica esquemática"
      ],
      "metadata": {
        "id": "KHgIHlchniN5"
      }
    },
    {
      "cell_type": "code",
      "source": [
        "tf.keras.utils.plot_model(model, to_file = \"/content/drive/MyDrive/Proyecto4_CienciaDatos/images/model.png\", show_shapes = True, show_dtype = True)"
      ],
      "metadata": {
        "id": "0M433uW3Qzqk"
      },
      "execution_count": null,
      "outputs": []
    },
    {
      "cell_type": "markdown",
      "source": [
        "Y definimos nuestro criterio y optimizador"
      ],
      "metadata": {
        "id": "9x3zA5Eynm9L"
      }
    },
    {
      "cell_type": "code",
      "source": [
        "adam = keras.optimizers.Adam(learning_rate=0.0001)\n",
        "model.compile(optimizer=adam, loss='categorical_crossentropy', metrics=['accuracy'])"
      ],
      "metadata": {
        "id": "2hhYzhehQ3Ga"
      },
      "execution_count": null,
      "outputs": []
    },
    {
      "cell_type": "markdown",
      "source": [
        "Para terminar, reshapeamos nuevamente nuestro target para poder realizar el análisis de predicciones de mejor manera"
      ],
      "metadata": {
        "id": "VQrTB9bxnsUt"
      }
    },
    {
      "cell_type": "code",
      "source": [
        "y_train = np_utils.to_categorical(y_train, 7)\n",
        "y_train.shape"
      ],
      "metadata": {
        "colab": {
          "base_uri": "https://localhost:8080/"
        },
        "id": "bNagj5g_Q5GB",
        "outputId": "87bdaf1a-94ea-45a7-bf53-e2e8e81f84a5"
      },
      "execution_count": null,
      "outputs": [
        {
          "output_type": "execute_result",
          "data": {
            "text/plain": [
              "(56630, 7)"
            ]
          },
          "metadata": {},
          "execution_count": 19
        }
      ]
    },
    {
      "cell_type": "code",
      "source": [
        "y_test = np_utils.to_categorical(y_test, 7)\n",
        "y_test.shape"
      ],
      "metadata": {
        "colab": {
          "base_uri": "https://localhost:8080/"
        },
        "id": "6w31O0IhQ6L3",
        "outputId": "5fd5a35f-2159-4519-d2da-87d3e56e86d6"
      },
      "execution_count": null,
      "outputs": [
        {
          "output_type": "execute_result",
          "data": {
            "text/plain": [
              "(6293, 7)"
            ]
          },
          "metadata": {},
          "execution_count": 20
        }
      ]
    },
    {
      "cell_type": "markdown",
      "source": [
        "##Entrenamiento del modelo"
      ],
      "metadata": {
        "id": "nuFiGe0ZJnfv"
      }
    },
    {
      "cell_type": "markdown",
      "source": [
        "Y finalmente entrenamos con 30 épocas"
      ],
      "metadata": {
        "id": "DfqSGAnJn29l"
      }
    },
    {
      "cell_type": "code",
      "source": [
        "history = model.fit(x_train, y_train, epochs = 30, validation_data=(x_test, y_test))"
      ],
      "metadata": {
        "colab": {
          "base_uri": "https://localhost:8080/"
        },
        "id": "FJrnDayzQ7ie",
        "outputId": "acf92071-f788-486f-a182-3bd2191ead27"
      },
      "execution_count": null,
      "outputs": [
        {
          "output_type": "stream",
          "name": "stdout",
          "text": [
            "Epoch 1/30\n",
            "1770/1770 [==============================] - 1136s 640ms/step - loss: 1.7322 - accuracy: 0.3218 - val_loss: 1.4526 - val_accuracy: 0.4602\n",
            "Epoch 2/30\n",
            "1770/1770 [==============================] - 1135s 641ms/step - loss: 1.3961 - accuracy: 0.4659 - val_loss: 1.1987 - val_accuracy: 0.5576\n",
            "Epoch 3/30\n",
            "1770/1770 [==============================] - 1140s 644ms/step - loss: 1.2135 - accuracy: 0.5370 - val_loss: 1.0718 - val_accuracy: 0.5848\n",
            "Epoch 4/30\n",
            "1770/1770 [==============================] - 1136s 642ms/step - loss: 1.0960 - accuracy: 0.5799 - val_loss: 0.9952 - val_accuracy: 0.6272\n",
            "Epoch 5/30\n",
            "1770/1770 [==============================] - 1141s 645ms/step - loss: 1.0051 - accuracy: 0.6180 - val_loss: 0.9462 - val_accuracy: 0.6345\n",
            "Epoch 6/30\n",
            "1770/1770 [==============================] - 1143s 646ms/step - loss: 0.9244 - accuracy: 0.6466 - val_loss: 0.9003 - val_accuracy: 0.6641\n",
            "Epoch 7/30\n",
            "1770/1770 [==============================] - 1127s 637ms/step - loss: 0.8569 - accuracy: 0.6745 - val_loss: 0.9152 - val_accuracy: 0.6563\n",
            "Epoch 8/30\n",
            "1770/1770 [==============================] - 1130s 639ms/step - loss: 0.7838 - accuracy: 0.7058 - val_loss: 0.9019 - val_accuracy: 0.6566\n",
            "Epoch 9/30\n",
            "1770/1770 [==============================] - 1137s 642ms/step - loss: 0.7193 - accuracy: 0.7334 - val_loss: 0.7725 - val_accuracy: 0.7229\n",
            "Epoch 10/30\n",
            "1770/1770 [==============================] - 1130s 638ms/step - loss: 0.6536 - accuracy: 0.7585 - val_loss: 0.7629 - val_accuracy: 0.7235\n",
            "Epoch 11/30\n",
            "1770/1770 [==============================] - 1140s 644ms/step - loss: 0.5934 - accuracy: 0.7821 - val_loss: 0.7938 - val_accuracy: 0.7227\n",
            "Epoch 12/30\n",
            "1770/1770 [==============================] - 1126s 636ms/step - loss: 0.5349 - accuracy: 0.8073 - val_loss: 0.6863 - val_accuracy: 0.7632\n",
            "Epoch 13/30\n",
            "1770/1770 [==============================] - 1134s 641ms/step - loss: 0.4833 - accuracy: 0.8247 - val_loss: 0.7195 - val_accuracy: 0.7559\n",
            "Epoch 14/30\n",
            "1770/1770 [==============================] - 1135s 641ms/step - loss: 0.4341 - accuracy: 0.8463 - val_loss: 0.7915 - val_accuracy: 0.7529\n",
            "Epoch 15/30\n",
            "1770/1770 [==============================] - 1114s 629ms/step - loss: 0.3925 - accuracy: 0.8607 - val_loss: 0.7173 - val_accuracy: 0.7836\n",
            "Epoch 16/30\n",
            "1770/1770 [==============================] - 1129s 638ms/step - loss: 0.3546 - accuracy: 0.8753 - val_loss: 0.6930 - val_accuracy: 0.7953\n",
            "Epoch 17/30\n",
            "1770/1770 [==============================] - 1126s 636ms/step - loss: 0.3191 - accuracy: 0.8883 - val_loss: 0.7317 - val_accuracy: 0.7941\n",
            "Epoch 18/30\n",
            "1770/1770 [==============================] - 1121s 633ms/step - loss: 0.2902 - accuracy: 0.8988 - val_loss: 0.7666 - val_accuracy: 0.7901\n",
            "Epoch 19/30\n",
            "1770/1770 [==============================] - 1114s 629ms/step - loss: 0.2647 - accuracy: 0.9080 - val_loss: 0.6556 - val_accuracy: 0.8187\n",
            "Epoch 20/30\n",
            "1770/1770 [==============================] - 1107s 626ms/step - loss: 0.2386 - accuracy: 0.9182 - val_loss: 0.7550 - val_accuracy: 0.7909\n",
            "Epoch 21/30\n",
            "1770/1770 [==============================] - 1104s 624ms/step - loss: 0.2218 - accuracy: 0.9239 - val_loss: 0.7652 - val_accuracy: 0.8098\n",
            "Epoch 22/30\n",
            "1770/1770 [==============================] - 1105s 624ms/step - loss: 0.2037 - accuracy: 0.9288 - val_loss: 0.8121 - val_accuracy: 0.8022\n",
            "Epoch 23/30\n",
            "1770/1770 [==============================] - 1102s 623ms/step - loss: 0.1860 - accuracy: 0.9360 - val_loss: 0.7488 - val_accuracy: 0.8222\n",
            "Epoch 24/30\n",
            "1770/1770 [==============================] - 1098s 620ms/step - loss: 0.1778 - accuracy: 0.9381 - val_loss: 0.7692 - val_accuracy: 0.8181\n",
            "Epoch 25/30\n",
            "1770/1770 [==============================] - 1102s 623ms/step - loss: 0.1645 - accuracy: 0.9425 - val_loss: 0.8070 - val_accuracy: 0.8252\n",
            "Epoch 26/30\n",
            "1770/1770 [==============================] - 1105s 624ms/step - loss: 0.1554 - accuracy: 0.9463 - val_loss: 0.8526 - val_accuracy: 0.8292\n",
            "Epoch 27/30\n",
            "1770/1770 [==============================] - 1100s 621ms/step - loss: 0.1473 - accuracy: 0.9496 - val_loss: 0.7447 - val_accuracy: 0.8246\n",
            "Epoch 28/30\n",
            "1770/1770 [==============================] - 1102s 623ms/step - loss: 0.1445 - accuracy: 0.9512 - val_loss: 0.8326 - val_accuracy: 0.8317\n",
            "Epoch 29/30\n",
            "1770/1770 [==============================] - 1094s 618ms/step - loss: 0.1304 - accuracy: 0.9562 - val_loss: 0.8836 - val_accuracy: 0.8276\n",
            "Epoch 30/30\n",
            "1770/1770 [==============================] - 1105s 624ms/step - loss: 0.1261 - accuracy: 0.9570 - val_loss: 0.8770 - val_accuracy: 0.8263\n"
          ]
        }
      ]
    },
    {
      "cell_type": "markdown",
      "source": [
        "Evaluamos ahora nuestro modelo con el set de práctica"
      ],
      "metadata": {
        "id": "rIfFDOQaKgZZ"
      }
    },
    {
      "cell_type": "code",
      "source": [
        "print(\"Accuracy: {:.2f}%\".format(model.evaluate(x_test,y_test)[1]*100))"
      ],
      "metadata": {
        "colab": {
          "base_uri": "https://localhost:8080/"
        },
        "id": "rPckRtpjkRam",
        "outputId": "4552ec29-d1a7-4e10-d5ba-55dcf24c2b6c"
      },
      "execution_count": null,
      "outputs": [
        {
          "output_type": "stream",
          "name": "stdout",
          "text": [
            "197/197 [==============================] - 32s 163ms/step - loss: 0.8770 - accuracy: 0.8263\n",
            "Accuracy: 82.63%\n"
          ]
        }
      ]
    },
    {
      "cell_type": "markdown",
      "source": [
        "E imprimimos el f1_score correspondiente"
      ],
      "metadata": {
        "id": "tzRRP0fOK4Yx"
      }
    },
    {
      "cell_type": "code",
      "source": [
        "y_pred = model.predict(x_test)\n",
        "Y_test = []\n",
        "Y_pred = []\n",
        "\n",
        "for i in range(len(y_pred)):\n",
        "    Y_pred.append(np.argmax(y_pred[i]))\n",
        "    Y_test.append(np.argmax(y_test[i]))\n",
        "\n",
        "print('f1_score: {:.4f}'.format(sklearn.metrics.f1_score(Y_test, Y_pred, average='weighted')))"
      ],
      "metadata": {
        "colab": {
          "base_uri": "https://localhost:8080/"
        },
        "id": "M5lfrSafLAVM",
        "outputId": "37df16ab-713f-4708-c164-bcc9c2f66945"
      },
      "execution_count": null,
      "outputs": [
        {
          "output_type": "stream",
          "name": "stdout",
          "text": [
            "f1_score: 0.8269\n"
          ]
        }
      ]
    },
    {
      "cell_type": "markdown",
      "source": [
        "Podemos, de igual manera, mostrar y guardar las gráficas que muestran la evolución del modelo a través de las épocas. En especial las del *Accuracy* y el *Loss*"
      ],
      "metadata": {
        "id": "nNLS89xtMBSw"
      }
    },
    {
      "cell_type": "code",
      "source": [
        "plt.plot(history.history['accuracy'], label='Train')\n",
        "plt.plot(history.history['val_accuracy'], label='Test')\n",
        "plt.ylabel('Accuracy')\n",
        "plt.xlabel('Epoch')\n",
        "plt.legend()\n",
        "plt.savefig('/content/drive/MyDrive/Proyecto4_CienciaDatos/images/acc.png', dpi=200)"
      ],
      "metadata": {
        "colab": {
          "base_uri": "https://localhost:8080/",
          "height": 285
        },
        "id": "c0vClALb6wpH",
        "outputId": "556cc5ce-ce75-4595-f20a-30ea7c57e813"
      },
      "execution_count": null,
      "outputs": [
        {
          "output_type": "display_data",
          "data": {
            "text/plain": [
              "<Figure size 432x288 with 1 Axes>"
            ],
            "image/png": "[encoded data removed]"
          },
          "metadata": {}
        }
      ]
    },
    {
      "cell_type": "code",
      "source": [
        "plt.plot(history.history['loss'], label='Train')\n",
        "plt.plot(history.history['val_loss'], label='Test')\n",
        "plt.ylabel('Loss')\n",
        "plt.xlabel('Epoch')\n",
        "plt.legend()\n",
        "plt.savefig('/content/drive/MyDrive/Proyecto4_CienciaDatos/images/loss.png', dpi=200)"
      ],
      "metadata": {
        "colab": {
          "base_uri": "https://localhost:8080/",
          "height": 287
        },
        "id": "eqMvZg0q7Fms",
        "outputId": "3134b41c-6711-46d4-b16f-dbe5a95b71ea"
      },
      "execution_count": null,
      "outputs": [
        {
          "output_type": "display_data",
          "data": {
            "text/plain": [
              "<Figure size 432x288 with 1 Axes>"
            ],
            "image/png": "[encoded data removed]"
          },
          "metadata": {}
        }
      ]
    },
    {
      "cell_type": "markdown",
      "source": [
        "Para concluir, guardamos la arquitectura de nuestro modelo, así como los pesos, para posteriores usos"
      ],
      "metadata": {
        "id": "DLtK50VZKXdE"
      }
    },
    {
      "cell_type": "code",
      "source": [
        "model_json = model.to_json()  \n",
        "with open(\"/content/drive/MyDrive/Proyecto4_CienciaDatos/Model_EmotionsClassifier/model/model.json\", \"w\") as json_file:  \n",
        "    json_file.write(model_json)  \n",
        "model.save(\"drive/MyDrive/Proyecto4_CienciaDatos/Model_EmotionsClassifier/model/model.h5\") "
      ],
      "metadata": {
        "id": "sj9Y6d1TQ8v4"
      },
      "execution_count": null,
      "outputs": []
    },
    {
      "cell_type": "markdown",
      "source": [
        "Y guardamos los datos del *X_test*, *Y_test* y *Y_pred* para posteriores análisis."
      ],
      "metadata": {
        "id": "oHtOn77-OHe4"
      }
    },
    {
      "cell_type": "code",
      "source": [
        "X_test = []\n",
        "\n",
        "for x in x_test:\n",
        "  X_test.append(x.reshape(48*48))\n",
        "X_test = np.array(X_test)"
      ],
      "metadata": {
        "id": "a1ck8Bv3NxNK"
      },
      "execution_count": null,
      "outputs": []
    },
    {
      "cell_type": "code",
      "source": [
        "np.savetxt('/content/drive/MyDrive/Proyecto4_CienciaDatos/Model_EmotionsClassifier/data/X_test.txt', X_test)\n",
        "np.savetxt('/content/drive/MyDrive/Proyecto4_CienciaDatos/Model_EmotionsClassifier/data/Y_test.txt', Y_test)\n",
        "np.savetxt('/content/drive/MyDrive/Proyecto4_CienciaDatos/Model_EmotionsClassifier/data/Y_pred.txt', Y_pred)"
      ],
      "metadata": {
        "id": "K7YX_SXfOt7N"
      },
      "execution_count": null,
      "outputs": []
    }
  ]
}